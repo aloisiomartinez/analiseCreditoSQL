{
  "nbformat": 4,
  "nbformat_minor": 0,
  "metadata": {
    "colab": {
      "provenance": [],
      "toc_visible": true,
      "authorship_tag": "ABX9TyOetwzRyUTgadMGCDOQhqXm",
      "include_colab_link": true
    },
    "kernelspec": {
      "name": "python3",
      "display_name": "Python 3"
    },
    "language_info": {
      "name": "python"
    }
  },
  "cells": [
    {
      "cell_type": "markdown",
      "metadata": {
        "id": "view-in-github",
        "colab_type": "text"
      },
      "source": [
        "<a href=\"https://colab.research.google.com/github/aloisiomartinez/analiseCreditoSQL/blob/main/Credit_EDA_and_Analysis.ipynb\" target=\"_parent\"><img src=\"https://colab.research.google.com/assets/colab-badge.svg\" alt=\"Open In Colab\"/></a>"
      ]
    },
    {
      "cell_type": "markdown",
      "source": [
        "# Exploração e análise de dados de crédito com **SQL**"
      ],
      "metadata": {
        "id": "nUT8lcZSIiM0"
      }
    },
    {
      "cell_type": "markdown",
      "source": [
        "## Dicionário dos dados:\n",
        "\n",
        "Os dados representam informações de clientes de um banco e contam com as seguintes colunas:\n",
        "\n",
        "* idade = idade do cliente\n",
        "* sexo = sexo do cliente (F ou M)\n",
        "* dependentes = número de dependentes do cliente\n",
        "* escolaridade = nível de escolaridade do clientes\n",
        "* salario_anual = faixa salarial do cliente\n",
        "* tipo_cartao = tipo de cartao do cliente\n",
        "* qtd_produtos = quantidade de produtos comprados nos últimos 12 meses\n",
        "* iteracoes_12m = quantidade de iterações/transacoes nos ultimos 12 meses\n",
        "* meses_inativo_12m = quantidade de meses que o cliente ficou inativo\n",
        "* limite_credito = limite de credito do cliente\n",
        "* valor_transacoes_12m = valor das transações dos ultimos 12 meses\n",
        "* qtd_transacoes_12m  = quantidade de transacoes dos ultimos 12 meses"
      ],
      "metadata": {
        "id": "sy5amlwaIvEc"
      }
    },
    {
      "cell_type": "markdown",
      "source": [
        "## **Exploração de dados:**\n",
        "\n",
        "A primeira fase da análise é entender o que tem na nossa matéria prima. Vamos a exploração de dados:\n",
        "\n",
        "**Qual a quantidade de informações temos na nossa base de dados?**\n",
        "\n",
        "Query: SELECT count(*) FROM credito\n",
        "> Reposta: 2564 linhas"
      ],
      "metadata": {
        "id": "3pM5bwQdIzY1"
      }
    },
    {
      "cell_type": "markdown",
      "source": [
        "## **Entendendo os dados:**"
      ],
      "metadata": {
        "id": "yyBkVB59JjMH"
      }
    },
    {
      "cell_type": "markdown",
      "source": [
        "Query: SELECT * FROM credito LIMIT 10;\n",
        "![Dez primeiras linhas do dataset](https://github.com/aloisiomartinez/analiseCreditoSQL/blob/main/assets/limit_10.png)\n"
      ],
      "metadata": {
        "id": "bt2_PT8OJpoO"
      }
    },
    {
      "cell_type": "markdown",
      "source": [
        "**Quais os tipos de cada dado**\n",
        "\n",
        "**Query:** DESCRIBE credito\n",
        "\n",
        "![Descrição dos tipos de dados](https://github.com/aloisiomartinez/analiseCredito/blob/main/assets/columns_describe.png?raw=true)\n",
        "\n",
        "\n",
        "\n",
        "Agora que ja entendemos quais são os tipos de dados, vamos olhar mais atentamente para as varíaveis que não são numéricas.\n",
        "\n",
        "**Quais são os tipos de escolaridade disponíveis no dataset?**\n",
        "\n",
        "**Query:** SELECT DISTINCT escolaridade FROM credito\n",
        "\n",
        "![Tipos de escolaridade](https://github.com/aloisiomartinez/analiseCredito/blob/main/escolaridade.png?raw=true)\n",
        "\n",
        "> Os dados contam com vários níveis de escolaridade e é possível perceber que temos valores nulos (na) no dataset, trataremos isso mais tarde!\n",
        "\n",
        "Será que temos mais valores nulos?\n",
        "\n",
        "**Quais são os tipos de estado_civil disponíveis no dataset?**\n",
        "\n",
        "**Query:** SELECT DISTINCT estado_civil  FROM credito\n",
        "\n",
        "![Tipos de estado civil](https://github.com/aloisiomartinez/analiseCredito/blob/main/escolaridade.png?raw=true)\n",
        "\n",
        "> Novamente encontramos valores nulos nos dados de estado civil!\n",
        "\n",
        "**Quais são os tipos de salario_anual disponíveis no dataset?**\n",
        "\n",
        "**Query:** SELECT DISTINCT salario_anual  FROM credito\n",
        "\n",
        "![Tipos de salario anual](https://github.com/aloisiomartinez/analiseCredito/blob/main/salario_anual.png?raw=true)\n",
        "\n",
        "> Os salários nesse dataset não estão expostas com o valor exato que o cliente ganha. O que está informado é a faixa salarial de cada um. Também contem dados nulos.\n",
        "\n",
        "\n",
        "**Quais são os tipos de cartão disponíveis no dataset?**\n",
        "\n",
        "**Query:** SELECT DISTINCT tipo_cartao  FROM credito\n",
        "\n",
        "![Tipos de cartão](https://github.com/aloisiomartinez/analiseCredito/blob/main/cartao.png?raw=true)\n",
        "\n",
        "> Aqui vemos que não há necessidade de tratar valores nulos."
      ],
      "metadata": {
        "id": "aODHxs57I5qg"
      }
    },
    {
      "cell_type": "markdown",
      "source": [
        "## **Análise de dados**\n",
        "\n",
        "Uma vez que exploramos o dados e buscamos entender quais são as informações que temos no nosso banco de dados, podemos analisar as informações para buscar entender o que está acontecendo no banco de dados. Vamos fazer perguntas:\n",
        "/\n",
        "**Nesse banco de dados, quantos clientes temos de cada faixa salarial?**\n",
        "\n",
        "**Query:** select count(*), salario_anual from credito group by salario_anual\n",
        "\n",
        "![Quantidade para cada faixa salarial](https://github.com/marianeneiva/sqlEBAC/blob/main/faixa_salarial.png?raw=true)\n",
        "\n",
        "> a maioria dos clientes dessa base de dados possui um renda menor que 40K e existem 235 clientes que não informaram ou não consta a faixa salarial.\n",
        "> De certa forma, pode ser interessante para a empresa focar nesse público de mais baixa renda.\n",
        "\n",
        "**Nesse banco de dados, quantos clientes são homens e quantos são mulheres?**\n",
        "\n",
        "**Query:** select count(*), sexo from credito group by sexo\n",
        "\n",
        "\n",
        "![Quantidade para cada sexo](https://github.com/marianeneiva/sqlEBAC/blob/main/faixa_sexo.png?raw=true)\n",
        "\n",
        "![Quantidade para cada sexo - gráfico](https://github.com/marianeneiva/sqlEBAC/blob/main/qtde_por_sexo.png?raw=true)\n",
        "\n",
        "> A maioria dos clientes desse banco é homem! Do csv extraído dos dados é possível gerar o gráfico em pizza com para melhor a proporção de masculino/feminino\n",
        "\n",
        "**Queremos focar o nosso marketing de maneira adequada para nossos clientes, qual será a idade deles?**\n",
        "\n",
        "**Query:** select avg(idade) as media_idade, min(idade) as min_idade, max(idade) as max_idade, sexo from credito group by sexo\n",
        "![Média de idades por sexo](https://github.com/marianeneiva/sqlEBAC/blob/main/idade_sexopng.png?raw=true)\n",
        "\n",
        "> Por meio dessa análise não foi possível extrair nenhuma informação relevante.  A menor idade dos dois sexos é a mesma e a média é muito similar. A unica  diferença é a idade máxima mas fato quase irrelevante por a diferença não é tão gritante.\n",
        "\n",
        "\n",
        "**Qual a maior e menor transação dos clientes?**\n",
        "\n",
        "**Query:** select min(valor_transacoes_12m) as transacao_minima, max(valor_transacoes_12m) as transacao_minima from credito\n",
        "![Valor transacoes](https://github.com/marianeneiva/sqlEBAC/blob/main/transacoes.png?raw=true)\n",
        "\n",
        "> Nesse banco de dados temos soma de transações em 12 meses variam de 510.16 a 5776.58\n",
        "\n",
        "**Quais as características dos clientes que possuem os maiores creditos?**\n",
        "\n",
        "**Query:**\n",
        "select max(limite_credito) as limite_credito, escolaridade, tipo_cartao, sexo\n",
        "from credito\n",
        "where escolaridade != 'na' and tipo_cartao != 'na'\n",
        "group by  escolaridade, tipo_cartao, sexo\n",
        "order by limite_credito desc\n",
        "limit 10\n",
        "\n",
        "![Valor limite](https://github.com/marianeneiva/sqlEBAC/blob/main/limite_desc.png?raw=true)\n",
        "\n",
        "> Não parece haver um impacto da escolaridade no limite. O limite mais alto é oferecido para um homem sem educação formal. O cartão também parece não estar relacionado com a escolaridade nem com o limite. Dentre os maiores limites, encontramos clientes com cartão: gold, silver, platinum e blue\n",
        "\n",
        "**Quais as características dos clientes que possuem os menores creditos?**\n",
        "\n",
        "**Query:**\n",
        "select max(limite_credito) as limite_credito, escolaridade, tipo_cartao, sexo\n",
        "from credito\n",
        "where escolaridade != 'na' and tipo_cartao != 'na'\n",
        "group by  escolaridade, tipo_cartao, sexo\n",
        "order by limite_credito asc\n",
        "\n",
        "\n",
        "![Valor limite](https://github.com/marianeneiva/sqlEBAC/blob/main/limite_asc.png?raw=true)\n",
        "\n",
        "> Dessa vez conseguimos perceber que não há clientes com cartão platinum dentre os menores limites. Também foi possível perceber que a maioria dos menores limites são mulheres enquanto nos maiores limites predomina homens.\n",
        "\n",
        "**Será que as mulheres gastam mais?**\n",
        "\n",
        "**Query:**\n",
        "select max(valor_transacoes_12m) as maior_valor_gasto, avg(valor_transacoes_12m) as  media_valor_gasto, min(valor_transacoes_12m) as min_valor_gasto, sexo\n",
        "from credito\n",
        "group by sexo\n",
        "\n",
        "\n",
        "![Valor transacoes/sexo](https://github.com/marianeneiva/sqlEBAC/blob/main/quemgastamais.png?raw=true)\n",
        "\n",
        "> Apesar da diferença nos limites, os gastos de homens e mulheres são similares!\n",
        "\n",
        "Por fim,\n",
        "\n",
        "\n",
        "**O salário impacta no limite?**\n",
        "\n",
        "**Query:** select avg(qtd_produtos) as qts_produtos, avg(valor_transacoes_12m) as media_valor_transacoes, avg(limite_credito) as media_limite,  sexo,   salario_anual from credito\n",
        "where salario_anual != 'na'\n",
        "group by sexo, salario_anual\n",
        "order by avg(valor_transacoes_12m) desc\n",
        "\n",
        "![Valor salario_anualLimite](https://github.com/marianeneiva/sqlEBAC/blob/main/salarioAnualMediaLimite.png?raw=true)\n",
        "\n",
        ">SIM! As pessoas que tem menor faixa salarial também apresentam menor limite de credito!"
      ],
      "metadata": {
        "id": "hBjzjucQLNYo"
      }
    },
    {
      "cell_type": "markdown",
      "source": [
        "# Conclusão\n",
        "​\n",
        "Essas foram **algumas** análises extraídas do dataset de crédito.  \n",
        "​\n",
        "Alguns insights interessantes:\n",
        "​\n",
        "- a maior parte dos clientes possui renda até 40K\n",
        "- a maior parte dos clientes é masculino!\n",
        "- a escolaridade não parece influenciar no limite nem no tipo do cartão\n",
        "- os clientes com maiores limites são em sua maioria homens\n",
        "- os clientes com menores limites são em sua maioria mulheres\n",
        "- dentre os menores limites não há presença de cartão platinum\n",
        "- a faixa salarial impacta diretamente no limite de crédito\n",
        "- nao existem clientes com salário anual acima de 60K do sexo feminino\n",
        "​\n",
        "**Uma exploração maior dos dados pode explicar porque as mulheres tem menor crédito. Isso também pode ser um problema cultural que pode ser repensado!**\n",
        "​"
      ],
      "metadata": {
        "id": "TdFy1NkxI8Sx"
      }
    }
  ]
}