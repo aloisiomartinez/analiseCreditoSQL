{
  "nbformat": 4,
  "nbformat_minor": 0,
  "metadata": {
    "colab": {
      "provenance": [],
      "toc_visible": true,
      "authorship_tag": "ABX9TyP35Sb+AonDpJeJYnmj7GEs",
      "include_colab_link": true
    },
    "kernelspec": {
      "name": "python3",
      "display_name": "Python 3"
    },
    "language_info": {
      "name": "python"
    }
  },
  "cells": [
    {
      "cell_type": "markdown",
      "metadata": {
        "id": "view-in-github",
        "colab_type": "text"
      },
      "source": [
        "<a href=\"https://colab.research.google.com/github/aloisiomartinez/analiseCreditoSQL/blob/main/Credit_EDA_and_Analysis.ipynb\" target=\"_parent\"><img src=\"https://colab.research.google.com/assets/colab-badge.svg\" alt=\"Open In Colab\"/></a>"
      ]
    },
    {
      "cell_type": "markdown",
      "source": [
        "# Exploração e análise de dados de crédito com **SQL**"
      ],
      "metadata": {
        "id": "nUT8lcZSIiM0"
      }
    },
    {
      "cell_type": "markdown",
      "source": [
        "## Dicionário dos dados:\n",
        "\n",
        "Os dados representam informações de clientes de um banco e contam com as seguintes colunas:\n",
        "\n",
        "* idade = idade do cliente\n",
        "* sexo = sexo do cliente (F ou M)\n",
        "* dependentes = número de dependentes do cliente\n",
        "* escolaridade = nível de escolaridade do clientes\n",
        "* salario_anual = faixa salarial do cliente\n",
        "* tipo_cartao = tipo de cartao do cliente\n",
        "* qtd_produtos = quantidade de produtos comprados nos últimos 12 meses\n",
        "* iteracoes_12m = quantidade de iterações/transacoes nos ultimos 12 meses\n",
        "* meses_inativo_12m = quantidade de meses que o cliente ficou inativo\n",
        "* limite_credito = limite de credito do cliente\n",
        "* valor_transacoes_12m = valor das transações dos ultimos 12 meses\n",
        "* qtd_transacoes_12m  = quantidade de transacoes dos ultimos 12 meses"
      ],
      "metadata": {
        "id": "sy5amlwaIvEc"
      }
    },
    {
      "cell_type": "markdown",
      "source": [
        "## **Exploração de dados:**\n",
        "\n",
        "A primeira fase da análise é entender o que tem na nossa matéria prima. Vamos a exploração de dados:\n",
        "\n",
        "**Qual a quantidade de informações temos na nossa base de dados?**\n",
        "\n",
        "Query: SELECT count(*) FROM credito\n",
        "> Reposta: 2564 linhas"
      ],
      "metadata": {
        "id": "3pM5bwQdIzY1"
      }
    },
    {
      "cell_type": "markdown",
      "source": [
        "## **Entendendo os dados:**"
      ],
      "metadata": {
        "id": "yyBkVB59JjMH"
      }
    },
    {
      "cell_type": "markdown",
      "source": [
        "Query: SELECT * FROM credito LIMIT 10;\n",
        "![Dez primeiras linhas do dataset](https://github.com/aloisiomartinez/analiseCreditoSQL/blob/main/assets/limit_10.png?raw=true)\n"
      ],
      "metadata": {
        "id": "bt2_PT8OJpoO"
      }
    },
    {
      "cell_type": "markdown",
      "source": [
        "## **Tipo de cada Variável**\n",
        "\n",
        "**Query:** *DESCRIBE credito*\n",
        "\n",
        "![Descrição dos tipos de dados](https://github.com/aloisiomartinez/analiseCreditoSQL/blob/main/assets/columns_describe.png?raw=true)\n",
        "\n",
        "\n",
        "\n",
        "Agora que ja entendemos quais são os tipos de dados, vamos olhar mais atentamente para as varíaveis que não são numéricas.\n",
        "\n",
        "### **Tipos de escolaridade disponíveis no dataset?**\n",
        "\n",
        "**Query:** *SELECT DISTINCT escolaridade FROM credito*\n",
        "\n",
        "![Tipos de escolaridade](https://github.com/aloisiomartinez/analiseCreditoSQL/blob/main/assets/education.png?raw=true)\n",
        "\n",
        "### **Tipos de estado_civil disponíveis no dataset?**\n",
        "\n",
        "**Query:** *SELECT DISTINCT estado_civil  FROM credito*\n",
        "\n",
        "![Tipos de estado civil](https://github.com/aloisiomartinez/analiseCreditoSQL/blob/main/assets/civil_state.png?raw=true)\n",
        "\n",
        "\n",
        "### **Tipos de salario_anual disponíveis no dataset?**\n",
        "\n",
        "**Query:** *SELECT DISTINCT salario_anual  FROM credito*\n",
        "\n",
        "![Tipos de salario anual](https://github.com/aloisiomartinez/analiseCreditoSQL/blob/main/assets/anual_salary.png?raw=true)\n",
        "\n",
        "\n",
        "### **Tipos de cartão disponíveis no dataset?**\n",
        "\n",
        "**Query:** *SELECT DISTINCT tipo_cartao  FROM credito*\n",
        "\n",
        "![Tipos de cartão](https://github.com/aloisiomartinez/analiseCreditoSQL/blob/main/assets/card_type.png?raw=true)\n",
        "\n",
        "> ***Importante lembrar que em todas as variáveis existem valores nulos que precisam ser tratados.***"
      ],
      "metadata": {
        "id": "aODHxs57I5qg"
      }
    },
    {
      "cell_type": "markdown",
      "source": [
        "## **Análise de dados**\n",
        "\n",
        "**Divisão de Clientes por faixa salarial**\n",
        "\n",
        "**Query:** select count(*), salario_anual from credito group by salario_anual *texto em itálico*\n",
        "\n",
        "![Quantidade para cada faixa salarial](https://github.com/aloisiomartinez/analiseCreditoSQL/blob/main/assets/salary_range.png?raw=true)\n",
        "\n",
        "> Existe uma quantidade semelhante de clientes entre as faixas salariais dentre 40k e 120k, e uma maior quantidade de clientes com uma faixa salarial menor de 40.000 por ano.\n",
        "> O banco pode focar os clientes com faixa salarial abaixo de 80K pois se trata da sua grande quantidade de clientes.\n",
        "\n",
        "**Divisão de clientes por sexo**\n",
        "\n",
        "**Query:** select count(*), sexo from credito group by sexo *texto em itálico*\n",
        "\n",
        "\n",
        "![Quantidade para cada sexo](https://github.com/aloisiomartinez/analiseCreditoSQL/blob/main/assets/sex_range.png?raw=true)\n",
        "\n",
        "> Gráfico em Pizza para melhor visualização:\n",
        "\n",
        "![Quantidade para cada sexo - gráfico](https://github.com/aloisiomartinez/analiseCreditoSQL/blob/main/assets/qtd_sex.png?raw=true)\n",
        "\n",
        "\n",
        "**Media de idade por sexo**\n",
        "\n",
        "**Query:** *select avg(idade) as media_idade, min(idade) as min_idade, max(idade) as max_idade, sexo from credito group by sexo*\n",
        "![Média de idades por sexo](https://github.com/aloisiomartinez/analiseCreditoSQL/blob/main/assets/sex_age.png?raw=true)\n",
        "\n",
        "> As médias das idades são parecidas em relação ao Sexo de cada cliente, com menos de 1 ano de diferença.\n",
        "\n",
        "**Maior e menor transação dos clientes?**\n",
        "\n",
        "**Query:** *select min(valor_transacoes_12m) as transacao_minima, max(valor_transacoes_12m) as transacao_minima from credito*\n",
        "![Valor transacoes](https://github.com/aloisiomartinez/analiseCreditoSQL/blob/main/assets/transactions.png?raw=true)\n",
        "\n",
        "> Nesse banco de dados a soma de transações em 12 meses variam de 510.16 a 5776.58\n",
        "\n",
        "**Quais as características dos clientes que possuem os maiores creditos?**\n",
        "\n",
        "**Query:**\n",
        "*select max(limite_credito) as limite_credito, escolaridade, tipo_cartao, sexo\n",
        "from credito\n",
        "where escolaridade != 'na' and tipo_cartao != 'na'\n",
        "group by  escolaridade, tipo_cartao, sexo\n",
        "order by limite_credito desc\n",
        "limit 10*\n",
        "\n",
        "![Valor limite](https://github.com/aloisiomartinez/analiseCreditoSQL/blob/main/assets/limite_desc.png?raw=true)\n",
        "\n",
        "> Podemos perceber que o grau de escolaridade não interfere no limite do cliente, o primeiro clite com maior limite não possui uma educação formal.\n",
        "\n",
        "**Quais as características dos clientes que possuem os menores creditos?**\n",
        "\n",
        "**Query:**\n",
        "*select max(limite_credito) as limite_credito, escolaridade, tipo_cartao, sexo\n",
        "from credito\n",
        "where escolaridade != 'na' and tipo_cartao != 'na'\n",
        "group by  escolaridade, tipo_cartao, sexo\n",
        "order by limite_credito asc*\n",
        "\n",
        "\n",
        "![Valor limite](https://github.com/aloisiomartinez/analiseCreditoSQL/blob/main/assets/limite_asc.png?raw=true)\n",
        "\n",
        "> Dessa vez conseguimos perceber que não há clientes com cartão platinum dentre os menores limites. Também é possível perceber que a maioria dos menores limites são mulheres.\n",
        "\n",
        "**Sexo com maior gasto?**\n",
        "\n",
        "**Query:**\n",
        "*select max(valor_transacoes_12m) as maior_valor_gasto, avg(valor_transacoes_12m) as  media_valor_gasto, min(valor_transacoes_12m) as min_valor_gasto, sexo\n",
        "from credito\n",
        "group by sexo*\n",
        "\n",
        "\n",
        "![Valor transacoes/sexo](https://github.com/aloisiomartinez/analiseCreditoSQL/blob/main/assets/spent_more.png?raw=true)\n",
        "\n",
        "> Os gastos de homens e mulheres são similares.\n",
        "\n",
        "**O salário impacta no limite?**\n",
        "\n",
        "**Query:** *select avg(qtd_produtos) as qts_produtos, avg(valor_transacoes_12m) as media_valor_transacoes, avg(limite_credito) as media_limite,  sexo,   salario_anual from credito\n",
        "where salario_anual != 'na'\n",
        "group by sexo, salario_anual\n",
        "order by avg(valor_transacoes_12m) desc*\n",
        "\n",
        "![Valor salario_anualLimite](https://github.com/aloisiomartinez/analiseCreditoSQL/blob/main/assets/anual_salary_2.png?raw=true)\n",
        "\n",
        ">SIM! As pessoas que tem menor faixa salarial também apresentam menor limite de credito!"
      ],
      "metadata": {
        "id": "hBjzjucQLNYo"
      }
    },
    {
      "cell_type": "markdown",
      "source": [
        "# Conclusão\n",
        "\n",
        "Essas foram algumas análises extraídas do dataset de crédito.  \n",
        "\n",
        "Alguns insights interessantes:\n",
        "\n",
        "- A maior parte dos clientes possui renda até 80K\n",
        "- A maior parte dos clientes é masculino!\n",
        "- A escolaridade não parece influenciar no limite nem no tipo do cartão\n",
        "- Os clientes com menores limites são em sua maioria mulheres\n",
        "- Dentre os menores limites não há presença de cartão platinum\n",
        "- A faixa salarial impacta diretamente no limite de crédito\n"
      ],
      "metadata": {
        "id": "TdFy1NkxI8Sx"
      }
    }
  ]
}